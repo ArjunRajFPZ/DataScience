#program to appl matrix operations(Using vectorisation) and transformation using python and SVD using python
#%s- used to perform concatenation of strings together
import numpy as np
a=np.array([1,2,3])
print("type: %s" %type(a))
print("shape: %s" %a.shape)
print(a[0],a[1],a[2])
a[0]=5
print(a)
type: 
shape: 3
1 2 3
[5 2 3]
b=np.array([[1,2,3],[4,5,6]])
print("shape of b:",b.shape) #2 dimentions and 3 elements each
print(b[0,0],b[0,1],b[1,0])
shape of b: (2, 3)
1 2 4
a=np.zeros((2,2)) #zeros() function is used to get a new array of given shape and type, filled with zeros
print("All zeros matrix: %s" %a)
All zeros matrix: [[0. 0.]
 [0. 0.]]
b=np.ones((1,2)) #ones() function is used to get a new array of given shape and type, filled with ones
print("All ones matrix: %s" %a)
All ones matrix: [[0. 0.]
 [0. 0.]]
d=np.eye(2) #eye() function is used to create a 2-D array with ones on the diagonal and zeros elsewhere.
print("identify matrix: %s" %d)
identify matrix: [[1. 0.]
 [0. 1.]]
e=np.random.random((2,2)) #Return random floats 
print("Random matrix: %s" %e)
Random matrix: [[0.59990895 0.32222387]
 [0.88236674 0.42464795]]
print("Vectorized sum example")
x=np.array([[1,2],[3,4]])
print("x: %s" %x)
print("Sum : %s"%np.sum(x))
print("sum axis=0 %s" %np.sum(x, axis=0))
print("sum axis=1 %s" %np.sum(x, axis=1))
Vectorized sum example
x: [[1 2]
 [3 4]]
Sum : 10
sum axis=0 [4 6]
sum axis=1 [3 7]
#Matrix dot product
a=np.arange(10000)
b=np.arange(10000)
dp=np.dot(a,b)
print("Dot product :%s" %dp)
Dot product :-1724114088
#outer product
op=np.outer(a,b)
print("Outer Product : %s" %op)
Outer Product : [[       0        0        0 ...        0        0        0]
 [       0        1        2 ...     9997     9998     9999]
 [       0        2        4 ...    19994    19996    19998]
 ...
 [       0     9997    19994 ... 99940009 99950006 99960003]
 [       0     9998    19996 ... 99950006 99960004 99970002]
 [       0     9999    19998 ... 99960003 99970002 99980001]]
 
